{
 "cells": [
  {
   "cell_type": "markdown",
   "id": "6ca6e731",
   "metadata": {},
   "source": [
    "# <h1 align = 'center'>Project Data collection, Transmission and Security part 2</h1> \n",
    "#### <center> Marvel VS DC   </center>\n",
    "#### <center> Achraf BELLA </center>\n",
    "#### <center> Ecole Centrale - Casablanca - January 2022 </center>\n",
    "***"
   ]
  },
  {
   "cell_type": "code",
   "execution_count": 29,
   "id": "afe3953c",
   "metadata": {},
   "outputs": [],
   "source": [
    "# importing necessary libraries\n",
    "import pandas as pd\n",
    "import numpy as np\n",
    "from nltk import FreqDist\n",
    "from nltk.tokenize import sent_tokenize\n",
    "from nltk.corpus import stopwords\n",
    "from nltk.stem import WordNetLemmatizer, SnowballStemmer\n",
    "\n",
    "import seaborn as sns\n",
    "import matplotlib.pyplot as plt\n",
    "from pprint import pprint\n",
    "import json\n",
    "import string\n",
    "import re\n",
    " "
   ]
  },
  {
   "cell_type": "markdown",
   "id": "0328b4da",
   "metadata": {},
   "source": [
    "# Data acquisition"
   ]
  },
  {
   "cell_type": "code",
   "execution_count": 2,
   "id": "802111db",
   "metadata": {},
   "outputs": [],
   "source": [
    "def read_data(file):\n",
    "    with open(file, 'r') as file:\n",
    "        collected_tweets = file.readlines()\n",
    "        pass\n",
    "    return collected_tweets "
   ]
  },
  {
   "cell_type": "code",
   "execution_count": 3,
   "id": "3b13d544",
   "metadata": {},
   "outputs": [],
   "source": [
    "collected_tweets1 = read_data(\"DC_data_europe.txt\")"
   ]
  },
  {
   "cell_type": "markdown",
   "id": "babf2aa2",
   "metadata": {},
   "source": [
    "let's check the structure of our tweet to build a function that collect only the valuable information."
   ]
  },
  {
   "cell_type": "code",
   "execution_count": 4,
   "id": "47444085",
   "metadata": {
    "scrolled": true
   },
   "outputs": [
    {
     "name": "stdout",
     "output_type": "stream",
     "text": [
      "{'contributors': None,\n",
      " 'coordinates': None,\n",
      " 'created_at': 'Thu Jan 20 17:07:45 +0000 2022',\n",
      " 'entities': {'hashtags': [],\n",
      "              'symbols': [],\n",
      "              'urls': [{'display_url': 'twitter.com/i/web/status/1…',\n",
      "                        'expanded_url': 'https://twitter.com/i/web/status/1484211054154506255',\n",
      "                        'indices': [117, 140],\n",
      "                        'url': 'https://t.co/2GeUoQgmy7'}],\n",
      "              'user_mentions': [{'id': 353718700,\n",
      "                                 'id_str': '353718700',\n",
      "                                 'indices': [0, 13],\n",
      "                                 'name': 'Eaglemoss Collections',\n",
      "                                 'screen_name': 'EaglemossLtd'}]},\n",
      " 'favorite_count': 0,\n",
      " 'favorited': False,\n",
      " 'geo': None,\n",
      " 'id': 1484211054154506255,\n",
      " 'id_str': '1484211054154506255',\n",
      " 'in_reply_to_screen_name': 'EaglemossLtd',\n",
      " 'in_reply_to_status_id': None,\n",
      " 'in_reply_to_status_id_str': None,\n",
      " 'in_reply_to_user_id': 353718700,\n",
      " 'in_reply_to_user_id_str': '353718700',\n",
      " 'is_quote_status': False,\n",
      " 'lang': 'en',\n",
      " 'metadata': {'iso_language_code': 'en', 'result_type': 'recent'},\n",
      " 'place': None,\n",
      " 'retweet_count': 0,\n",
      " 'retweeted': False,\n",
      " 'source': '<a href=\"http://twitter.com/download/android\" '\n",
      "           'rel=\"nofollow\">Twitter for Android</a>',\n",
      " 'text': '@EaglemossLtd Hello. How are you? Has issue 101 Venom of DC Comics – '\n",
      "         'The Legend of Batman been delayed? My local ne… '\n",
      "         'https://t.co/2GeUoQgmy7',\n",
      " 'truncated': True,\n",
      " 'user': {'contributors_enabled': False,\n",
      "          'created_at': 'Tue Mar 31 21:27:47 +0000 2009',\n",
      "          'default_profile': True,\n",
      "          'default_profile_image': False,\n",
      "          'description': 'Lover of Film, Telly, Games, Comics, Good Hard '\n",
      "                         'Rocking, Toys, Portsmouth FC, Dogs and Kirsty.',\n",
      "          'entities': {'description': {'urls': []},\n",
      "                       'url': {'urls': [{'display_url': 'Filmfansite.com',\n",
      "                                         'expanded_url': 'http://Filmfansite.com',\n",
      "                                         'indices': [0, 23],\n",
      "                                         'url': 'https://t.co/uJU61D19z9'}]}},\n",
      "          'favourites_count': 664,\n",
      "          'follow_request_sent': False,\n",
      "          'followers_count': 703,\n",
      "          'following': False,\n",
      "          'friends_count': 2232,\n",
      "          'geo_enabled': False,\n",
      "          'has_extended_profile': True,\n",
      "          'id': 27967422,\n",
      "          'id_str': '27967422',\n",
      "          'is_translation_enabled': False,\n",
      "          'is_translator': False,\n",
      "          'lang': None,\n",
      "          'listed_count': 2,\n",
      "          'location': 'South East, England',\n",
      "          'name': 'Paul Bromley',\n",
      "          'notifications': False,\n",
      "          'profile_background_color': 'C0DEED',\n",
      "          'profile_background_image_url': 'http://abs.twimg.com/images/themes/theme1/bg.png',\n",
      "          'profile_background_image_url_https': 'https://abs.twimg.com/images/themes/theme1/bg.png',\n",
      "          'profile_background_tile': False,\n",
      "          'profile_banner_url': 'https://pbs.twimg.com/profile_banners/27967422/1528139257',\n",
      "          'profile_image_url': 'http://pbs.twimg.com/profile_images/1003714907848704001/ZefrTiDo_normal.jpg',\n",
      "          'profile_image_url_https': 'https://pbs.twimg.com/profile_images/1003714907848704001/ZefrTiDo_normal.jpg',\n",
      "          'profile_link_color': '1DA1F2',\n",
      "          'profile_sidebar_border_color': 'C0DEED',\n",
      "          'profile_sidebar_fill_color': 'DDEEF6',\n",
      "          'profile_text_color': '333333',\n",
      "          'profile_use_background_image': True,\n",
      "          'protected': False,\n",
      "          'screen_name': 'BADBOYBROM',\n",
      "          'statuses_count': 981,\n",
      "          'time_zone': None,\n",
      "          'translator_type': 'none',\n",
      "          'url': 'https://t.co/uJU61D19z9',\n",
      "          'utc_offset': None,\n",
      "          'verified': False,\n",
      "          'withheld_in_countries': []}}\n"
     ]
    }
   ],
   "source": [
    "pprint(json.loads(collected_tweets1[8]))"
   ]
  },
  {
   "cell_type": "markdown",
   "id": "277becff",
   "metadata": {},
   "source": [
    "# Data transofrmation"
   ]
  },
  {
   "cell_type": "code",
   "execution_count": 5,
   "id": "14d0d7df",
   "metadata": {},
   "outputs": [],
   "source": [
    "def data_transorm(collected_tweets):\n",
    "    \"\"\"\n",
    "    return a list of data \n",
    "    \"\"\"\n",
    "    \n",
    "    data = list()\n",
    "    for elm in collected_tweets:\n",
    "        # format the str object into json format\n",
    "        elm = json.loads(elm)\n",
    "        # collect data and metadata\n",
    "        tweet_date = elm['created_at']\n",
    "        user_mentions = elm['entities']['user_mentions'] \n",
    "        lang = elm['lang']\n",
    "        tweet = elm['text']\n",
    "        user_name = elm['user']['screen_name']\n",
    "        location = elm['user']['location']\n",
    "        statuses_count = elm['user']['statuses_count']\n",
    "        retweeted = elm['retweeted'] \n",
    "        verified_account = elm['user']['verified']\n",
    "        followers = elm['user']['followers_count']\n",
    "        friends_count = elm['user']['friends_count']\n",
    "        data.append((tweet_date, user_mentions, lang, retweeted, tweet, user_name, location, \n",
    "                     statuses_count, followers, friends_count, verified_account))\n",
    "        pass\n",
    "    \n",
    "    features = ['tweet_created', 'user_mentions', 'lang', 'retweeted','tweet', 'name', 'tweet_location', 'statuses_count',\n",
    "            'followers','friends_count','verified_account'] \n",
    "    \n",
    "    return pd.DataFrame(data, columns=features)"
   ]
  },
  {
   "cell_type": "markdown",
   "id": "8a2d0475",
   "metadata": {},
   "source": [
    " We are going to use these features for our data"
   ]
  },
  {
   "cell_type": "code",
   "execution_count": 6,
   "id": "a7f0ffa2",
   "metadata": {},
   "outputs": [],
   "source": [
    "df = data_transorm(collected_tweets1)"
   ]
  },
  {
   "cell_type": "code",
   "execution_count": 7,
   "id": "fdd3c9c1",
   "metadata": {},
   "outputs": [
    {
     "data": {
      "text/html": [
       "<div>\n",
       "<style scoped>\n",
       "    .dataframe tbody tr th:only-of-type {\n",
       "        vertical-align: middle;\n",
       "    }\n",
       "\n",
       "    .dataframe tbody tr th {\n",
       "        vertical-align: top;\n",
       "    }\n",
       "\n",
       "    .dataframe thead th {\n",
       "        text-align: right;\n",
       "    }\n",
       "</style>\n",
       "<table border=\"1\" class=\"dataframe\">\n",
       "  <thead>\n",
       "    <tr style=\"text-align: right;\">\n",
       "      <th></th>\n",
       "      <th>tweet_created</th>\n",
       "      <th>user_mentions</th>\n",
       "      <th>lang</th>\n",
       "      <th>retweeted</th>\n",
       "      <th>tweet</th>\n",
       "      <th>name</th>\n",
       "      <th>tweet_location</th>\n",
       "      <th>statuses_count</th>\n",
       "      <th>followers</th>\n",
       "      <th>friends_count</th>\n",
       "      <th>verified_account</th>\n",
       "    </tr>\n",
       "  </thead>\n",
       "  <tbody>\n",
       "    <tr>\n",
       "      <th>0</th>\n",
       "      <td>Thu Jan 20 18:36:28 +0000 2022</td>\n",
       "      <td>[]</td>\n",
       "      <td>en</td>\n",
       "      <td>False</td>\n",
       "      <td>You know I am getting sick to absolute death o...</td>\n",
       "      <td>Dragonslay3r94</td>\n",
       "      <td>London, United Kingdom</td>\n",
       "      <td>13991</td>\n",
       "      <td>450</td>\n",
       "      <td>1040</td>\n",
       "      <td>False</td>\n",
       "    </tr>\n",
       "    <tr>\n",
       "      <th>1</th>\n",
       "      <td>Thu Jan 20 18:29:10 +0000 2022</td>\n",
       "      <td>[{'screen_name': 'DCBatman', 'name': 'Batman',...</td>\n",
       "      <td>en</td>\n",
       "      <td>False</td>\n",
       "      <td>@DCBatman Music Meister. Bring him into comics...</td>\n",
       "      <td>AzraelEnjoyer</td>\n",
       "      <td>Gotham</td>\n",
       "      <td>724</td>\n",
       "      <td>22</td>\n",
       "      <td>82</td>\n",
       "      <td>False</td>\n",
       "    </tr>\n",
       "    <tr>\n",
       "      <th>2</th>\n",
       "      <td>Thu Jan 20 18:00:46 +0000 2022</td>\n",
       "      <td>[{'screen_name': 'KneelBeforeW13', 'name': 'MA...</td>\n",
       "      <td>en</td>\n",
       "      <td>False</td>\n",
       "      <td>@KneelBeforeW13 Dc is clear of marvel in anima...</td>\n",
       "      <td>roroillustrator</td>\n",
       "      <td>Deutschland</td>\n",
       "      <td>7607</td>\n",
       "      <td>1303</td>\n",
       "      <td>1085</td>\n",
       "      <td>False</td>\n",
       "    </tr>\n",
       "    <tr>\n",
       "      <th>3</th>\n",
       "      <td>Thu Jan 20 17:58:03 +0000 2022</td>\n",
       "      <td>[]</td>\n",
       "      <td>en</td>\n",
       "      <td>False</td>\n",
       "      <td>JSA: 10 Best Comics Only True Fans Remember | ...</td>\n",
       "      <td>ComicsTweet1</td>\n",
       "      <td>Coventry</td>\n",
       "      <td>28636</td>\n",
       "      <td>1147</td>\n",
       "      <td>854</td>\n",
       "      <td>False</td>\n",
       "    </tr>\n",
       "    <tr>\n",
       "      <th>4</th>\n",
       "      <td>Thu Jan 20 17:49:23 +0000 2022</td>\n",
       "      <td>[]</td>\n",
       "      <td>en</td>\n",
       "      <td>False</td>\n",
       "      <td>https://t.co/B0Ap2iB66B\\nFunkos Popsies pop-up...</td>\n",
       "      <td>ComicsAndMovies</td>\n",
       "      <td>London</td>\n",
       "      <td>32636</td>\n",
       "      <td>8212</td>\n",
       "      <td>2361</td>\n",
       "      <td>False</td>\n",
       "    </tr>\n",
       "  </tbody>\n",
       "</table>\n",
       "</div>"
      ],
      "text/plain": [
       "                    tweet_created  \\\n",
       "0  Thu Jan 20 18:36:28 +0000 2022   \n",
       "1  Thu Jan 20 18:29:10 +0000 2022   \n",
       "2  Thu Jan 20 18:00:46 +0000 2022   \n",
       "3  Thu Jan 20 17:58:03 +0000 2022   \n",
       "4  Thu Jan 20 17:49:23 +0000 2022   \n",
       "\n",
       "                                       user_mentions lang  retweeted  \\\n",
       "0                                                 []   en      False   \n",
       "1  [{'screen_name': 'DCBatman', 'name': 'Batman',...   en      False   \n",
       "2  [{'screen_name': 'KneelBeforeW13', 'name': 'MA...   en      False   \n",
       "3                                                 []   en      False   \n",
       "4                                                 []   en      False   \n",
       "\n",
       "                                               tweet             name  \\\n",
       "0  You know I am getting sick to absolute death o...   Dragonslay3r94   \n",
       "1  @DCBatman Music Meister. Bring him into comics...    AzraelEnjoyer   \n",
       "2  @KneelBeforeW13 Dc is clear of marvel in anima...  roroillustrator   \n",
       "3  JSA: 10 Best Comics Only True Fans Remember | ...     ComicsTweet1   \n",
       "4  https://t.co/B0Ap2iB66B\\nFunkos Popsies pop-up...  ComicsAndMovies   \n",
       "\n",
       "           tweet_location  statuses_count  followers  friends_count  \\\n",
       "0  London, United Kingdom           13991        450           1040   \n",
       "1                  Gotham             724         22             82   \n",
       "2             Deutschland            7607       1303           1085   \n",
       "3                Coventry           28636       1147            854   \n",
       "4                  London           32636       8212           2361   \n",
       "\n",
       "   verified_account  \n",
       "0             False  \n",
       "1             False  \n",
       "2             False  \n",
       "3             False  \n",
       "4             False  "
      ]
     },
     "execution_count": 7,
     "metadata": {},
     "output_type": "execute_result"
    }
   ],
   "source": [
    "df.head()"
   ]
  },
  {
   "cell_type": "markdown",
   "id": "4c1885a5",
   "metadata": {},
   "source": [
    "# Data Analysis"
   ]
  },
  {
   "cell_type": "code",
   "execution_count": 8,
   "id": "25158649",
   "metadata": {
    "scrolled": false
   },
   "outputs": [
    {
     "data": {
      "image/png": "[encoded data removed]",
      "text/plain": [
       "<Figure size 1080x576 with 1 Axes>"
      ]
     },
     "metadata": {
      "needs_background": "light"
     },
     "output_type": "display_data"
    }
   ],
   "source": [
    "tweets_location = dict(df.tweet_location.value_counts())\n",
    "# I will graph the 40 items because there are more relevant\n",
    "df_tweets_location = pd.DataFrame(dict(list(tweets_location.items())[:10]), index=['number_of_tweets']).transpose()\n",
    "df_tweets_location.plot.bar(figsize=(15, 8))\n",
    "plt.xticks(rotation=90)\n",
    "plt.show()"
   ]
  },
  {
   "cell_type": "markdown",
   "id": "6fcb516c",
   "metadata": {},
   "source": [
    "# DEA"
   ]
  },
  {
   "cell_type": "code",
   "execution_count": 9,
   "id": "cfe69565",
   "metadata": {},
   "outputs": [
    {
     "data": {
      "text/plain": [
       "(52148, 11)"
      ]
     },
     "execution_count": 9,
     "metadata": {},
     "output_type": "execute_result"
    }
   ],
   "source": [
    "df.shape"
   ]
  },
  {
   "cell_type": "code",
   "execution_count": 10,
   "id": "68fd65ba",
   "metadata": {},
   "outputs": [
    {
     "data": {
      "text/plain": [
       "tweet_created       0\n",
       "user_mentions       0\n",
       "lang                0\n",
       "retweeted           0\n",
       "tweet               0\n",
       "name                0\n",
       "tweet_location      0\n",
       "statuses_count      0\n",
       "followers           0\n",
       "friends_count       0\n",
       "verified_account    0\n",
       "dtype: int64"
      ]
     },
     "execution_count": 10,
     "metadata": {},
     "output_type": "execute_result"
    }
   ],
   "source": [
    "df.isnull().sum()"
   ]
  },
  {
   "cell_type": "code",
   "execution_count": 11,
   "id": "9d745a66",
   "metadata": {},
   "outputs": [],
   "source": [
    "# we will build our corpus to performe some analysis\n",
    "corpus = df.tweet"
   ]
  },
  {
   "cell_type": "code",
   "execution_count": 12,
   "id": "9e06ed5c",
   "metadata": {},
   "outputs": [],
   "source": [
    "corpus_chars_list = \"\\n\".join(corpus)"
   ]
  },
  {
   "cell_type": "code",
   "execution_count": 13,
   "id": "2dab3611",
   "metadata": {},
   "outputs": [],
   "source": [
    "#a frequency distribution could be used to record the frequency of each word type in a document. \n",
    "#Formally, a frequency distribution can be defined as a function mapping from each sample to the number of times that sample occurred as an outcome.\n",
    "\n",
    "fdist1 = FreqDist([c for c in corpus_chars_list])"
   ]
  },
  {
   "cell_type": "code",
   "execution_count": 14,
   "id": "13cce0fa",
   "metadata": {},
   "outputs": [
    {
     "name": "stdout",
     "output_type": "stream",
     "text": [
      "number of characters:5996634\n",
      "number of unique characters:485\n"
     ]
    }
   ],
   "source": [
    "print(\"number of characters:\" + str(fdist1.N()))\n",
    "print(\"number of unique characters:\" + str(fdist1.B()))"
   ]
  },
  {
   "cell_type": "code",
   "execution_count": 15,
   "id": "a26c55de",
   "metadata": {
    "scrolled": false
   },
   "outputs": [
    {
     "name": "stdout",
     "output_type": "stream",
     "text": [
      "List of unique characters in the corpus:\n",
      "['\\n', '\\r', ' ', '!', '\"', '#', '$', '%', '&', \"'\", '(', ')', '*', '+', ',', '-', '.', '/', '0', '1', '2', '3', '4', '5', '6', '7', '8', '9', ':', ';', '=', '?', '@', 'A', 'B', 'C', 'D', 'E', 'F', 'G', 'H', 'I', 'J', 'K', 'L', 'M', 'N', 'O', 'P', 'Q', 'R', 'S', 'T', 'U', 'V', 'W', 'X', 'Y', 'Z', '[', '\\\\', ']', '^', '_', '`', 'a', 'b', 'c', 'd', 'e', 'f', 'g', 'h', 'i', 'j', 'k', 'l', 'm', 'n', 'o', 'p', 'q', 'r', 's', 't', 'u', 'v', 'w', 'x', 'y', 'z', '|', '~', '\\xa0', '£', '©', '«', '®', '´', '»', '¿', 'Â', 'É', '×', 'à', 'ä', 'ç', 'è', 'é', 'ë', 'í', 'ï', 'ñ', 'ó', 'ö', 'Ō', 'ซ', 'ท', 'อ', '\\u200b', '\\u200d', '–', '—', '‘', '’', '“', '”', '„', '•', '…', '\\u202f', '‼', '⁉', '\\u2060', '\\u2066', '\\u2069', '€', '₳', '⃣', '™', '↑', '⎜', 'ⓘ', '▶', '☄', '★', '☑', '☕', '☝', '☠', '☮', '☹', '☺', '♀', '♂', '♥', '♦', '♪', '♫', '♻', '⚘', '⚠', '⚡', '⚧', '⚪', '⚫', '⚽', '⛽', '✂', '✅', '✋', '✌', '✍', '✏', '✨', '❄', '❌', '❓', '❔', '❗', '❣', '❤', '➡', '⠀', '⤴', '⬅', '⬆', '⬇', '⬛', '⭐', '⭕', '《', 'な', 'イ', 'ス', 'ト', 'ラ', '乐', '快', '日', '旭', '熙', '生', '黄', '️', '￼', '𝗔', '𝗕', '𝗘', '𝗚', '𝗜', '𝗞', '𝗡', '𝗥', '🃏', '🆘', '🆚', '🇧', '🇨', '🇪', '🇬', '🇳', '🇴', '🇸', '🇹', '🇺', '🇻', '🌃', '🌈', '🌊', '🌌', '🌍', '🌎', '🌚', '🌟', '🌸', '🌹', '🍀', '🍆', '🍊', '🍎', '🍝', '🍹', '🍻', '🍾', '🍿', '🎁', '🎂', '🎆', '🎈', '🎉', '🎊', '🎙', '🎞', '🎥', '🎧', '🎨', '🎬', '🎭', '🎮', '🎯', '🎲', '🎵', '🎶', '🎻', '🏃', '🏄', '🏆', '🏐', '🏥', '🏪', '🏳', '🏴', '🏷', '🏻', '🏼', '🏽', '🏾', '🏿', '🐈', '🐊', '🐐', '🐔', '🐧', '🐬', '🐱', '🐳', '🐶', '👀', '👂', '👄', '👇', '👈', '👉', '👊', '👋', '👌', '👍', '👎', '👏', '👑', '👣', '👦', '👨', '👩', '👼', '💀', '💃', '💉', '💎', '💔', '💕', '💖', '💗', '💙', '💚', '💛', '💜', '💡', '💥', '💨', '💩', '💪', '💫', '💬', '💭', '💯', '💷', '💸', '💻', '📅', '📈', '📖', '📚', '📜', '📣', '📦', '📱', '📷', '📸', '📺', '📻', '🔍', '🔐', '🔒', '🔚', '🔜', '🔥', '🔴', '🕊', '🕺', '🖤', '🗑', '🗞', '🗡', '🗣', '🗽', '😀', '😁', '😂', '😃', '😄', '😅', '😆', '😇', '😈', '😉', '😊', '😋', '😌', '😍', '😎', '😏', '😐', '😑', '😒', '😓', '😔', '😕', '😘', '😛', '😜', '😝', '😞', '😠', '😡', '😢', '😤', '😥', '😩', '😪', '😫', '😬', '😭', '😮', '😱', '😲', '😳', '😵', '😹', '😺', '😻', '😾', '🙂', '🙃', '🙄', '🙈', '🙊', '🙌', '🙏', '🚀', '🚓', '🚨', '🚩', '🚫', '🚴', '🚶', '🚹', '🛐', '🛑', '🛒', '🛵', '🟡', '🟢', '🤌', '🤍', '🤎', '🤓', '🤔', '🤗', '🤘', '🤙', '🤛', '🤜', '🤝', '🤞', '🤟', '🤡', '🤢', '🤣', '🤤', '🤦', '🤨', '🤩', '🤪', '🤫', '🤬', '🤭', '🤮', '🤯', '🤷', '🤸', '🥂', '🥊', '🥋', '🥤', '🥨', '🥰', '🥱', '🥲', '🥳', '🥴', '🥵', '🥶', '🥷', '🥺', '🦅', '🦇', '🦞', '🦧', '🦸', '🦾', '🧍', '🧐', '🧘', '🧙', '🧜', '🧠', '🧡', '🧢', '🧤', '🧵', '🪖', '🪗', '🪡']\n"
     ]
    }
   ],
   "source": [
    "u = list(fdist1.keys())\n",
    "u.sort()\n",
    "print('List of unique characters in the corpus:')\n",
    "print(u)"
   ]
  },
  {
   "cell_type": "code",
   "execution_count": 16,
   "id": "07266b13",
   "metadata": {},
   "outputs": [
    {
     "data": {
      "image/png": "[encoded data removed]",
      "text/plain": [
       "<Figure size 432x288 with 1 Axes>"
      ]
     },
     "metadata": {
      "needs_background": "light"
     },
     "output_type": "display_data"
    },
    {
     "data": {
      "text/plain": [
       "<AxesSubplot:xlabel='Samples', ylabel='Counts'>"
      ]
     },
     "execution_count": 16,
     "metadata": {},
     "output_type": "execute_result"
    }
   ],
   "source": [
    "fdist1.plot(20, cumulative=False)"
   ]
  },
  {
   "cell_type": "code",
   "execution_count": 17,
   "id": "c5a73022",
   "metadata": {},
   "outputs": [
    {
     "data": {
      "image/png": "[encoded data removed]",
      "text/plain": [
       "<Figure size 432x288 with 1 Axes>"
      ]
     },
     "metadata": {
      "needs_background": "light"
     },
     "output_type": "display_data"
    },
    {
     "data": {
      "text/plain": [
       "<AxesSubplot:xlabel='Samples', ylabel='Cumulative Counts'>"
      ]
     },
     "execution_count": 17,
     "metadata": {},
     "output_type": "execute_result"
    }
   ],
   "source": [
    "# the top 20 characters cover more than 95% of all character occurrences in the corpus\n",
    "fdist1.plot(20,cumulative=True)"
   ]
  },
  {
   "cell_type": "code",
   "execution_count": 18,
   "id": "b5b54bcd",
   "metadata": {},
   "outputs": [
    {
     "data": {
      "text/plain": [
       "[(' ', 787876),\n",
       " ('t', 422859),\n",
       " ('e', 419576),\n",
       " ('a', 343012),\n",
       " ('o', 315047),\n",
       " ('n', 265781),\n",
       " ('s', 259962),\n",
       " ('i', 238130),\n",
       " ('r', 212216),\n",
       " ('h', 210542)]"
      ]
     },
     "execution_count": 18,
     "metadata": {},
     "output_type": "execute_result"
    }
   ],
   "source": [
    "# the 10 most frequent characters in the corpus\n",
    "fdist1.most_common(10)"
   ]
  },
  {
   "cell_type": "code",
   "execution_count": 19,
   "id": "86850f36",
   "metadata": {},
   "outputs": [
    {
     "name": "stdout",
     "output_type": "stream",
     "text": [
      ". 73026\n",
      "! 8904\n",
      "? 5546\n"
     ]
    }
   ],
   "source": [
    "for c in ['.','!','?']:\n",
    "    print(c,fdist1[c])"
   ]
  },
  {
   "cell_type": "markdown",
   "id": "d4715d23",
   "metadata": {},
   "source": [
    "We should delete them in data preparation."
   ]
  },
  {
   "cell_type": "code",
   "execution_count": 20,
   "id": "4a550d92",
   "metadata": {},
   "outputs": [
    {
     "data": {
      "text/html": [
       "<div>\n",
       "<style scoped>\n",
       "    .dataframe tbody tr th:only-of-type {\n",
       "        vertical-align: middle;\n",
       "    }\n",
       "\n",
       "    .dataframe tbody tr th {\n",
       "        vertical-align: top;\n",
       "    }\n",
       "\n",
       "    .dataframe thead th {\n",
       "        text-align: right;\n",
       "    }\n",
       "</style>\n",
       "<table border=\"1\" class=\"dataframe\">\n",
       "  <thead>\n",
       "    <tr style=\"text-align: right;\">\n",
       "      <th></th>\n",
       "      <th>n_chars</th>\n",
       "      <th>n_sents</th>\n",
       "      <th>n_chars_per_sent</th>\n",
       "    </tr>\n",
       "  </thead>\n",
       "  <tbody>\n",
       "    <tr>\n",
       "      <th>0</th>\n",
       "      <td>140</td>\n",
       "      <td>2</td>\n",
       "      <td>70.000000</td>\n",
       "    </tr>\n",
       "    <tr>\n",
       "      <th>1</th>\n",
       "      <td>89</td>\n",
       "      <td>3</td>\n",
       "      <td>29.666667</td>\n",
       "    </tr>\n",
       "    <tr>\n",
       "      <th>2</th>\n",
       "      <td>106</td>\n",
       "      <td>2</td>\n",
       "      <td>53.000000</td>\n",
       "    </tr>\n",
       "    <tr>\n",
       "      <th>3</th>\n",
       "      <td>95</td>\n",
       "      <td>1</td>\n",
       "      <td>95.000000</td>\n",
       "    </tr>\n",
       "    <tr>\n",
       "      <th>4</th>\n",
       "      <td>140</td>\n",
       "      <td>1</td>\n",
       "      <td>140.000000</td>\n",
       "    </tr>\n",
       "  </tbody>\n",
       "</table>\n",
       "</div>"
      ],
      "text/plain": [
       "   n_chars  n_sents  n_chars_per_sent\n",
       "0      140        2         70.000000\n",
       "1       89        3         29.666667\n",
       "2      106        2         53.000000\n",
       "3       95        1         95.000000\n",
       "4      140        1        140.000000"
      ]
     },
     "execution_count": 20,
     "metadata": {},
     "output_type": "execute_result"
    }
   ],
   "source": [
    "L1 = [len(doc) for doc in df.tweet]\n",
    "L2 = [len(sent_tokenize(doc)) for doc in df.tweet]\n",
    "doc_len_df_ = pd.DataFrame({'n_chars' : L1, 'n_sents' : L2, \\\n",
    "                            'n_chars_per_sent' : np.array(L1)/np.array(L2)})\n",
    "doc_len_df_.head()"
   ]
  },
  {
   "cell_type": "code",
   "execution_count": 21,
   "id": "7dd7329b",
   "metadata": {},
   "outputs": [
    {
     "data": {
      "image/png": "[encoded data removed]",
      "text/plain": [
       "<Figure size 540x540 with 12 Axes>"
      ]
     },
     "metadata": {},
     "output_type": "display_data"
    }
   ],
   "source": [
    "sns.set(style=\"ticks\", color_codes=True)\n",
    "g = sns.pairplot(doc_len_df_)"
   ]
  },
  {
   "cell_type": "markdown",
   "id": "76743596",
   "metadata": {},
   "source": [
    "# Data Preparation"
   ]
  },
  {
   "cell_type": "markdown",
   "id": "9dcd90f6",
   "metadata": {},
   "source": [
    "Common data cleaning steps on all text:\n",
    "\n",
    "* Make text all lower case\n",
    "* Remove punctuation\n",
    "* Remove numerical values\n",
    "* Remove common non-sensical text (/n)\n",
    "* Tokenize text\n",
    "* Remove stop words\n",
    "* Stemming / lemmatization"
   ]
  },
  {
   "cell_type": "markdown",
   "id": "1fb6e585",
   "metadata": {},
   "source": [
    "### Drop Duplicate Tweets"
   ]
  },
  {
   "cell_type": "code",
   "execution_count": 22,
   "id": "fe17e8c4",
   "metadata": {},
   "outputs": [],
   "source": [
    "df.drop_duplicates(subset=['tweet'], inplace=True)"
   ]
  },
  {
   "cell_type": "markdown",
   "id": "f44abed0",
   "metadata": {},
   "source": [
    "### Cleaning the data"
   ]
  },
  {
   "cell_type": "code",
   "execution_count": 23,
   "id": "c9e3b118",
   "metadata": {},
   "outputs": [],
   "source": [
    "def clean_text_round1(text):\n",
    "    '''Make text lowercase, remove text in square brackets, remove punctuation and remove words containing numbers.'''\n",
    "    '''Also for twitter we should delete RT at the beginning'''\n",
    "    text = text.lower()\n",
    "    text = re.sub('rt', '', text)\n",
    "    text = re.sub('\\n','', text)\n",
    "    text = re.sub('\\r','', text)\n",
    "    text = re.sub('\\[.*?\\]', '', text)\n",
    "    text = re.sub('[%s]' % re.escape(string.punctuation), '', text)\n",
    "    text = re.sub('\\w*\\d\\w*', '', text)\n",
    "    return text"
   ]
  },
  {
   "cell_type": "code",
   "execution_count": 24,
   "id": "cc2c2fbd",
   "metadata": {},
   "outputs": [],
   "source": [
    "def clean_text_round2(text):\n",
    "    '''Get rid of some additional punctuation and non-sensical text that was missed the first time around.'''\n",
    "    text = re.sub('[‘’“”…]', '', text)\n",
    "    return text"
   ]
  },
  {
   "cell_type": "markdown",
   "id": "c16f2faf",
   "metadata": {},
   "source": [
    "Pretty sure whenever something tweet about something, he may add some emojis that will ruin our analysis, and that excatly what we remarked there is so many emojis that we need to get ride of."
   ]
  },
  {
   "cell_type": "code",
   "execution_count": 25,
   "id": "52debdb4",
   "metadata": {},
   "outputs": [],
   "source": [
    "def remove_emojis(data):\n",
    "    emoj = re.compile(\"[\"\n",
    "        u\"\\U0001F600-\\U0001F64F\"  # emoticons\n",
    "        u\"\\U0001F300-\\U0001F5FF\"  # symbols & pictographs\n",
    "        u\"\\U0001F680-\\U0001F6FF\"  # transport & map symbols\n",
    "        u\"\\U0001F1E0-\\U0001F1FF\"  # flags (iOS)\n",
    "        u\"\\U00002500-\\U00002BEF\"  # chinese char\n",
    "        u\"\\U00002702-\\U000027B0\"\n",
    "        u\"\\U00002702-\\U000027B0\"\n",
    "        u\"\\U000024C2-\\U0001F251\"\n",
    "        u\"\\U0001f926-\\U0001f937\"\n",
    "        u\"\\U00010000-\\U0010ffff\"\n",
    "        u\"\\u2640-\\u2642\" \n",
    "        u\"\\u2600-\\u2B55\"\n",
    "        u\"\\u200d\"\n",
    "        u\"\\u23cf\"\n",
    "        u\"\\u23e9\"\n",
    "        u\"\\u231a\"\n",
    "        u\"\\ufe0f\"  # dingbats\n",
    "        u\"\\u3030\"\n",
    "                      \"]+\", re.UNICODE)\n",
    "    return re.sub(emoj, '', data)"
   ]
  },
  {
   "cell_type": "code",
   "execution_count": 26,
   "id": "fcbaa1e7",
   "metadata": {},
   "outputs": [],
   "source": [
    "df['cleaned_tweet'] = df.tweet.apply(lambda x : clean_text_round1(x))\n",
    "df['cleaned_tweet'] = df.cleaned_tweet.apply(lambda x : clean_text_round2(x))"
   ]
  },
  {
   "cell_type": "code",
   "execution_count": 27,
   "id": "da2ba46d",
   "metadata": {},
   "outputs": [],
   "source": [
    "df['cleaned_tweet'] = df.cleaned_tweet.apply(lambda x : remove_emojis(x))"
   ]
  },
  {
   "cell_type": "markdown",
   "id": "a60eb488",
   "metadata": {},
   "source": [
    "### lemmatization"
   ]
  },
  {
   "cell_type": "code",
   "execution_count": 31,
   "id": "2cc485b5",
   "metadata": {},
   "outputs": [],
   "source": [
    "lemmatizer = WordNetLemmatizer() \n",
    "stemmer = SnowballStemmer('english')\n",
    "df['cleaned_tweet'] = df.cleaned_tweet.apply(lambda x : stemmer.stem(WordNetLemmatizer().lemmatize(x, pos='v')))"
   ]
  },
  {
   "cell_type": "markdown",
   "id": "9207777e",
   "metadata": {},
   "source": [
    "### break the tweets into tokens"
   ]
  },
  {
   "cell_type": "code",
   "execution_count": 32,
   "id": "a71a8882",
   "metadata": {},
   "outputs": [],
   "source": [
    "df['tokens'] = df.cleaned_tweet.apply(lambda x : x.split(' '))"
   ]
  },
  {
   "cell_type": "markdown",
   "id": "ef8cefd4",
   "metadata": {},
   "source": [
    "### stop words"
   ]
  },
  {
   "cell_type": "code",
   "execution_count": 33,
   "id": "119e9b91",
   "metadata": {},
   "outputs": [],
   "source": [
    "final_stopwords_list = stopwords.words('english')\n",
    "df['tokens'] = df['tokens'].apply(lambda x: [item for item in x if item not in final_stopwords_list and len(item)> 3])"
   ]
  },
  {
   "cell_type": "code",
   "execution_count": 34,
   "id": "bcacfb13",
   "metadata": {},
   "outputs": [],
   "source": [
    "df['cleaned_tweet'] = df['tokens'].apply(lambda x: ' '.join([item for item in x]))"
   ]
  },
  {
   "cell_type": "markdown",
   "id": "24498a48",
   "metadata": {},
   "source": [
    "# Analysis after the cleansing"
   ]
  },
  {
   "cell_type": "code",
   "execution_count": 35,
   "id": "373d2e28",
   "metadata": {},
   "outputs": [],
   "source": [
    "corpus_ = df.cleaned_tweet"
   ]
  },
  {
   "cell_type": "code",
   "execution_count": 36,
   "id": "b469b7fd",
   "metadata": {},
   "outputs": [],
   "source": [
    "corpus_chars_list_ = \"\\n\".join(corpus_)"
   ]
  },
  {
   "cell_type": "code",
   "execution_count": 37,
   "id": "28b1ba87",
   "metadata": {},
   "outputs": [],
   "source": [
    "fdist1_ = FreqDist([c for c in corpus_chars_list_])"
   ]
  },
  {
   "cell_type": "code",
   "execution_count": 38,
   "id": "65435c6d",
   "metadata": {},
   "outputs": [
    {
     "name": "stdout",
     "output_type": "stream",
     "text": [
      "List of unique characters in the corpus:\n",
      "['\\n', ' ', 'a', 'b', 'c', 'd', 'e', 'f', 'g', 'h', 'i', 'j', 'k', 'l', 'm', 'n', 'o', 'p', 'q', 'r', 's', 't', 'u', 'v', 'w', 'x', 'y', 'z', '\\xa0', '£', '©', '«', '®', '´', '»', '¿', '×', 'ä', 'ç', 'è', 'é', 'ë', 'í', 'ï', 'ñ', 'ó', 'ö', 'ō', 'ซ', 'ท', 'อ', '\\u200b', '–', '—', '„', '•', '\\u202f', '⁉', '\\u2060', '\\u2066', '\\u2069', '⃣', '™', '↑']\n"
     ]
    }
   ],
   "source": [
    "u_ = list(fdist1_.keys())\n",
    "u_.sort()\n",
    "print('List of unique characters in the corpus:')\n",
    "print(u_)"
   ]
  },
  {
   "cell_type": "markdown",
   "id": "7ab4ed92",
   "metadata": {},
   "source": [
    "Now we have a more clean data"
   ]
  },
  {
   "cell_type": "markdown",
   "id": "2e25040f",
   "metadata": {},
   "source": [
    "# Pipeline"
   ]
  },
  {
   "cell_type": "code",
   "execution_count": 39,
   "id": "63c61e90",
   "metadata": {},
   "outputs": [],
   "source": [
    "def Pipeline(file):\n",
    "    list_data = read_data(file)\n",
    "    # convert list to dataframe\n",
    "    df        = data_transorm(list_data)\n",
    "    # drop duplictes\n",
    "    df.drop_duplicates(subset=['tweet'], inplace=True)\n",
    "    # clean 1 \n",
    "    df['cleaned_tweet'] = df.tweet.apply(lambda x : clean_text_round1(x))\n",
    "    # clean 2\n",
    "    df['cleaned_tweet'] = df.cleaned_tweet.apply(lambda x : clean_text_round2(x))\n",
    "    # remove emojis\n",
    "    df['cleaned_tweet'] = df.cleaned_tweet.apply(lambda x : remove_emojis(x))\n",
    "    # lemmatization\n",
    "    df['cleaned_tweet'] = df.cleaned_tweet.apply(lambda x : stemmer.stem(WordNetLemmatizer().lemmatize(x, pos='v'))) \n",
    "    # tokens\n",
    "    df['tokens'] = df.cleaned_tweet.apply(lambda x : x.split(' '))\n",
    "    # stop words\n",
    "    df['tokens'] = df['tokens'].apply(lambda x: [item for item in x if item not in final_stopwords_list and len(item)>=3])\n",
    "    # clean text\n",
    "    df['cleaned_tweet'] = df['tokens'].apply(lambda x: ' '.join([item for item in x]))\n",
    "    # save df as pickle\n",
    "    df.to_pickle(str(file[:-4])+\"_df.pkl\")"
   ]
  },
  {
   "cell_type": "code",
   "execution_count": 40,
   "id": "925e0e1c",
   "metadata": {},
   "outputs": [
    {
     "name": "stdout",
     "output_type": "stream",
     "text": [
      "the DC_data_europe.txt in the pipline\n",
      "the DC_data_usa.txt in the pipline\n",
      "the marvel_data_usa.txt in the pipline\n",
      "the marvel_data_europe.txt in the pipline\n"
     ]
    }
   ],
   "source": [
    "for data_path in ['DC_data_europe.txt', 'DC_data_usa.txt', 'marvel_data_usa.txt', 'marvel_data_europe.txt']:\n",
    "    print(\"the {} in the pipline\".format(data_path))\n",
    "    Pipeline(data_path)\n",
    "    pass\n",
    "pass "
   ]
  },
  {
   "cell_type": "code",
   "execution_count": null,
   "id": "47b712af",
   "metadata": {},
   "outputs": [],
   "source": []
  }
 ],
 "metadata": {
  "kernelspec": {
   "display_name": "Python 3 (ipykernel)",
   "language": "python",
   "name": "python3"
  },
  "language_info": {
   "codemirror_mode": {
    "name": "ipython",
    "version": 3
   },
   "file_extension": ".py",
   "mimetype": "text/x-python",
   "name": "python",
   "nbconvert_exporter": "python",
   "pygments_lexer": "ipython3",
   "version": "3.9.7"
  }
 },
 "nbformat": 4,
 "nbformat_minor": 5
}
