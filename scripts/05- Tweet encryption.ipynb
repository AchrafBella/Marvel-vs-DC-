{
 "cells": [
  {
   "cell_type": "markdown",
   "id": "b5662c7c",
   "metadata": {},
   "source": [
    "# <h1 align = 'center'> Data collection, Transmission and Security part 5</h1> \n",
    "#### <center> Marvel VS DC  </center>\n",
    "#### <center> Achraf BELLA - Ecole Centrale - Casablanca - January 2022 </center>\n",
    "***"
   ]
  },
  {
   "cell_type": "code",
   "execution_count": 89,
   "id": "be2ad7be",
   "metadata": {},
   "outputs": [],
   "source": [
    "import pandas as pd\n",
    "from cryptography.hazmat.primitives.ciphers import Cipher, algorithms, modes\n",
    "from cryptography.hazmat.backends import default_backend\n",
    "import os"
   ]
  },
  {
   "cell_type": "markdown",
   "id": "3f7bd5d8",
   "metadata": {},
   "source": [
    "**Let's use for exemple marvel_data_usa for instance**"
   ]
  },
  {
   "cell_type": "code",
   "execution_count": 90,
   "id": "80d0da4b",
   "metadata": {},
   "outputs": [],
   "source": [
    "marvel_usa = pd.read_pickle('marvel_data_usa_df.pkl')"
   ]
  },
  {
   "cell_type": "markdown",
   "id": "34954336",
   "metadata": {},
   "source": [
    "**we took only the data **"
   ]
  },
  {
   "cell_type": "code",
   "execution_count": 91,
   "id": "ee5f2e37",
   "metadata": {},
   "outputs": [],
   "source": [
    "df = marvel_usa[['tweet']] \n",
    "del marvel_usa"
   ]
  },
  {
   "cell_type": "markdown",
   "id": "1d800d30",
   "metadata": {},
   "source": [
    "# Part 1"
   ]
  },
  {
   "cell_type": "markdown",
   "id": "55c5956f",
   "metadata": {},
   "source": [
    "### This function help you to encrypt the tweets"
   ]
  },
  {
   "cell_type": "code",
   "execution_count": 92,
   "id": "39475325",
   "metadata": {},
   "outputs": [],
   "source": [
    "def encrypt(key, plaintext, associated_data):\n",
    "    # Generate a random 96-bit IV.\n",
    "    iv = os.urandom(12)\n",
    "\n",
    "    # Construct an AES-GCM Cipher object with the given key and a\n",
    "    # randomly generated IV.\n",
    "    encryptor = Cipher(\n",
    "        algorithms.AES(key),\n",
    "        modes.GCM(iv),\n",
    "    ).encryptor()\n",
    "\n",
    "    # associated_data will be authenticated but not encrypted,\n",
    "    # it must also be passed in on decryption.\n",
    "    encryptor.authenticate_additional_data(associated_data)\n",
    "\n",
    "    # Encrypt the plaintext and get the associated ciphertext.\n",
    "    # GCM does not require padding.\n",
    "    plaintext = bytes(plaintext, encoding='utf-8')\n",
    "    ciphertext = encryptor.update(plaintext) + encryptor.finalize()\n",
    "\n",
    "    return  iv, ciphertext, encryptor.tag "
   ]
  },
  {
   "cell_type": "code",
   "execution_count": 93,
   "id": "13a5a75e",
   "metadata": {},
   "outputs": [],
   "source": [
    "associated_data = b\"authenticated but not encrypted payload\" \n",
    "key = os.urandom(32)"
   ]
  },
  {
   "cell_type": "code",
   "execution_count": 94,
   "id": "42e77127",
   "metadata": {},
   "outputs": [],
   "source": [
    "df['information'] = df.tweet.apply(lambda x : encrypt(key, x, associated_data))"
   ]
  },
  {
   "cell_type": "code",
   "execution_count": 95,
   "id": "91666352",
   "metadata": {},
   "outputs": [],
   "source": [
    "iv = df.information.apply(lambda x : x[0])\n",
    "encrypted_tweet = df.information.apply(lambda x : x[1])\n",
    "tags = df.information.apply(lambda x : x[2])"
   ]
  },
  {
   "cell_type": "markdown",
   "id": "f5829fe7",
   "metadata": {},
   "source": [
    "**I get rid of all the dataframe in order to send you only the encrypted_tweet**  "
   ]
  },
  {
   "cell_type": "code",
   "execution_count": 96,
   "id": "0dae30f7",
   "metadata": {},
   "outputs": [],
   "source": [
    "del df"
   ]
  },
  {
   "cell_type": "markdown",
   "id": "ce6a84a8",
   "metadata": {},
   "source": [
    "### Here you have the encrypted tweets"
   ]
  },
  {
   "cell_type": "code",
   "execution_count": 97,
   "id": "00cf5497",
   "metadata": {},
   "outputs": [
    {
     "data": {
      "text/plain": [
       "0         b'\\xad\\x8f\\n\\xa6\\x906p\\xf8=\\xd9C\\xdcM\\xec*\\xab...\n",
       "1         b'\\x1f\\x99\\t\\xe7iYH-E\\xe7as\\xcc\\xebS\\xa5YY\\xf1...\n",
       "2         b'3\\x9d\\xbcP\\x8d\\xde\\x9aw\\xe8\\x16\\xaa\"I\\x9dr\\x...\n",
       "3         b\"\\xd6\\xac\\x14)\\x18\\x88\\x83 732\\x17#\\x01Bx\\x94...\n",
       "4         b'\\xf0`ko\\xf3h\\xf1a\\xefj\\xa1s8}\\xe3\\xa8\\xd2\\xe...\n",
       "                                ...                        \n",
       "152926    b'\\xb4\\x16p\\xdd\\xf7\\xcfF\\x99\\x19\\xf4\\xba\\xae\\x...\n",
       "152928    b'\\xd8n\\x86\\xf5\\xcbs{|\\x17\\x16\\xe3L\\x8b]\\xa0\\x...\n",
       "152942    b'\\x7f\\x08\\xe9j\\xa1\\x890\\x99d\\xafU\\x15\\xcc\\xb5...\n",
       "152949    b'\\x0f.\\xeel\\x8c\\xbb\\xdbd\\x07\\xe4\\x05\\xf8[\\xd2...\n",
       "153309    b'^z\\xd3=&7\\xb2\\xb37\\xc9\\xc2\\xffVVO\\x0f?G\\xf6z...\n",
       "Name: information, Length: 32391, dtype: object"
      ]
     },
     "execution_count": 97,
     "metadata": {},
     "output_type": "execute_result"
    }
   ],
   "source": [
    "encrypted_tweet"
   ]
  },
  {
   "cell_type": "markdown",
   "id": "12016f86",
   "metadata": {},
   "source": [
    "# Part 2"
   ]
  },
  {
   "cell_type": "markdown",
   "id": "79717e3e",
   "metadata": {},
   "source": [
    "### This function help you to decrypt the hashcode"
   ]
  },
  {
   "cell_type": "code",
   "execution_count": 98,
   "id": "6adf1d33",
   "metadata": {},
   "outputs": [],
   "source": [
    "def decrypt(key, associated_data, iv, ciphertext, tag):\n",
    "    # Construct a Cipher object, with the key, iv, and additionally the\n",
    "    # GCM tag used for authenticating the message.\n",
    "    decryptor = Cipher(\n",
    "        algorithms.AES(key),\n",
    "        modes.GCM(iv, tag),\n",
    "    ).decryptor()\n",
    "\n",
    "    # We put associated_data back in or the tag will fail to verify\n",
    "    # when we finalize the decryptor.\n",
    "    decryptor.authenticate_additional_data(associated_data)\n",
    "\n",
    "    # Decryption gets us the authenticated plaintext.\n",
    "    # If the tag does not match an InvalidTag exception will be raised.\n",
    "    return decryptor.update(ciphertext) + decryptor.finalize()\n"
   ]
  },
  {
   "cell_type": "markdown",
   "id": "b88efa26",
   "metadata": {},
   "source": [
    "**To decrypt a specific tweet you need the key, iv and the tag**"
   ]
  },
  {
   "cell_type": "code",
   "execution_count": 101,
   "id": "62bad5ed",
   "metadata": {},
   "outputs": [
    {
     "data": {
      "text/plain": [
       "b'@KnightWing19 Marvel Comics makes too many X-Men books like how DC Comics makes too many Batman books.'"
      ]
     },
     "execution_count": 101,
     "metadata": {},
     "output_type": "execute_result"
    }
   ],
   "source": [
    "decrypt(key, associated_data, iv[0], encrypted_tweet[0], tags[0])"
   ]
  },
  {
   "cell_type": "markdown",
   "id": "ea870df2",
   "metadata": {},
   "source": [
    "Here I encrypted the 1  tweet  as you can see"
   ]
  }
 ],
 "metadata": {
  "kernelspec": {
   "display_name": "Python 3 (ipykernel)",
   "language": "python",
   "name": "python3"
  },
  "language_info": {
   "codemirror_mode": {
    "name": "ipython",
    "version": 3
   },
   "file_extension": ".py",
   "mimetype": "text/x-python",
   "name": "python",
   "nbconvert_exporter": "python",
   "pygments_lexer": "ipython3",
   "version": "3.9.7"
  }
 },
 "nbformat": 4,
 "nbformat_minor": 5
}
